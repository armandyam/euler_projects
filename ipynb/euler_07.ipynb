{
 "cells": [
  {
   "cell_type": "markdown",
   "metadata": {},
   "source": [
    "# [Euler Problem-7](https://projecteuler.net/problem=7) : 10001st prime\n"
   ]
  },
  {
   "cell_type": "markdown",
   "metadata": {},
   "source": [
    "**By listing the first six prime numbers: 2, 3, 5, 7, 11, and 13, we can see that the 6th prime is 13. What is the 10001st prime number?**"
   ]
  },
  {
   "cell_type": "code",
   "execution_count": 4,
   "metadata": {
    "collapsed": true
   },
   "outputs": [],
   "source": [
    "import matplotlib.pyplot as plt\n",
    "import numpy as np\n"
   ]
  },
  {
   "cell_type": "markdown",
   "metadata": {},
   "source": [
    "1 is neither prime nor composite. 2 and 3 are prime numbers, so we search for the 9999th prime number starting from 4 and update *number*."
   ]
  },
  {
   "cell_type": "code",
   "execution_count": null,
   "metadata": {
    "collapsed": true
   },
   "outputs": [],
   "source": [
    "# initialize first two prime numbers\n",
    "prime_arr = [2,3]\n",
    "start = 4\n",
    "number = 4\n",
    "end = 9999\n",
    "\n",
    "# initialize the number of prime and composite numbers to zero starting at number\n",
    "no_comp = 0\n",
    "no_prime = 0\n",
    "\n"
   ]
  },
  {
   "cell_type": "code",
   "execution_count": null,
   "metadata": {
    "collapsed": false
   },
   "outputs": [],
   "source": [
    "while(no_prime<end):\n",
    "    lim = np.int(np.ceil(np.sqrt(number)))+1\n",
    "    for i in range(start, lim):\n",
    "        if(number%i==0):\n",
    "            no_comp +=1\n",
    "            number +=1\n",
    "            break\n",
    "        if(i==lim-1):\n",
    "            prime_arr.append(number)\n",
    "            no_prime+=1\n",
    "            number +=1\n",
    "print prime_arr[-1]"
   ]
  },
  {
   "cell_type": "code",
   "execution_count": null,
   "metadata": {
    "collapsed": true
   },
   "outputs": [],
   "source": []
  }
 ],
 "metadata": {
  "kernelspec": {
   "display_name": "Python 2",
   "language": "python",
   "name": "python2"
  },
  "language_info": {
   "codemirror_mode": {
    "name": "ipython",
    "version": 2
   },
   "file_extension": ".py",
   "mimetype": "text/x-python",
   "name": "python",
   "nbconvert_exporter": "python",
   "pygments_lexer": "ipython2",
   "version": "2.7.10"
  }
 },
 "nbformat": 4,
 "nbformat_minor": 2
}

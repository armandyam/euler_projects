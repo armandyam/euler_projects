{
 "cells": [
  {
   "cell_type": "markdown",
   "metadata": {},
   "source": [
    "# [Euler Problem-4](https://projecteuler.net/problem=4) : Largest palindrome product"
   ]
  },
  {
   "cell_type": "markdown",
   "metadata": {},
   "source": [
    "**A palindromic number reads the same both ways. The largest palindrome made from the product of two 2-digit numbers is 9009 = 91 × 99. Find the largest palindrome made from the product of two 3-digit numbers.**"
   ]
  },
  {
   "cell_type": "code",
   "execution_count": 1,
   "metadata": {
    "collapsed": true
   },
   "outputs": [],
   "source": [
    "import matplotlib.pyplot as plt\n",
    "import numpy as np"
   ]
  },
  {
   "cell_type": "markdown",
   "metadata": {},
   "source": [
    "i_max and j_max are the two 3-digit numbers whose product is the greatest. max_no is initialized with a min. value and will be updated every iteration."
   ]
  },
  {
   "cell_type": "code",
   "execution_count": 16,
   "metadata": {
    "collapsed": true
   },
   "outputs": [],
   "source": [
    "max_no = -1\n",
    "i_max = 0\n",
    "j_max = 0"
   ]
  },
  {
   "cell_type": "markdown",
   "metadata": {},
   "source": [
    "Try to find the numbers by bruteforce:"
   ]
  },
  {
   "cell_type": "code",
   "execution_count": 19,
   "metadata": {
    "collapsed": false
   },
   "outputs": [
    {
     "name": "stdout",
     "output_type": "stream",
     "text": [
      "The two numbers whose product gives the greatest palindrome is 913 993\n",
      "The maximum product is 906609\n"
     ]
    }
   ],
   "source": [
    "# loop through every three-digit number\n",
    "for i in range(100,1000):\n",
    "    for j in range(100, 1000):\n",
    "        \n",
    "        # compute its product\n",
    "        number = i*j\n",
    "        \n",
    "        # find its reverse\n",
    "        rev_number = str(number)[::-1]\n",
    "        \n",
    "        # if reverse is equal to the number and their product is greater than the previous product then update\n",
    "        # i_max and j_max\n",
    "        if(str(number)==rev_number):\n",
    "            if(number>max_no):\n",
    "                max_no = number\n",
    "                i_max = i\n",
    "                j_max = j\n",
    "\n",
    "print 'The two numbers whose product gives the greatest palindrome is', i_max, j_max\n",
    "print 'The maximum product is', i_max*j_max"
   ]
  },
  {
   "cell_type": "code",
   "execution_count": null,
   "metadata": {
    "collapsed": true
   },
   "outputs": [],
   "source": []
  }
 ],
 "metadata": {
  "kernelspec": {
   "display_name": "Python 2",
   "language": "python",
   "name": "python2"
  },
  "language_info": {
   "codemirror_mode": {
    "name": "ipython",
    "version": 2
   },
   "file_extension": ".py",
   "mimetype": "text/x-python",
   "name": "python",
   "nbconvert_exporter": "python",
   "pygments_lexer": "ipython2",
   "version": "2.7.10"
  }
 },
 "nbformat": 4,
 "nbformat_minor": 2
}
